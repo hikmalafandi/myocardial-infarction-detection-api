{
 "cells": [
  {
   "cell_type": "code",
   "execution_count": 4,
   "metadata": {},
   "outputs": [
    {
     "name": "stdout",
     "output_type": "stream",
     "text": [
      "Flask version: 2.1.1\n",
      "Flask-CORS version: 5.0.0\n",
      "NumPy version: 1.25.2\n",
      "Librosa version: 0.10.2.post1\n",
      "PyWavelets (pywt) version: 1.4.1\n",
      "TensorFlow version: 2.16.1\n",
      "SciPy version: 1.9.3\n",
      "Matplotlib version: 3.5.3\n",
      "scikit-learn version: 1.4.2\n"
     ]
    }
   ],
   "source": [
    "import flask\n",
    "import flask_cors\n",
    "import numpy as np\n",
    "import librosa\n",
    "import pywt\n",
    "import tensorflow as tf\n",
    "import scipy\n",
    "import matplotlib\n",
    "import sklearn\n",
    "\n",
    "print(\"Flask version:\", flask.__version__)\n",
    "print(\"Flask-CORS version:\", flask_cors.__version__)\n",
    "print(\"NumPy version:\", np.__version__)\n",
    "print(\"Librosa version:\", librosa.__version__)\n",
    "print(\"PyWavelets (pywt) version:\", pywt.__version__)\n",
    "print(\"TensorFlow version:\", tf.__version__)\n",
    "print(\"SciPy version:\", scipy.__version__)\n",
    "print(\"Matplotlib version:\", matplotlib.__version__)\n",
    "print(\"scikit-learn version:\", sklearn.__version__)\n"
   ]
  }
 ],
 "metadata": {
  "kernelspec": {
   "display_name": "Python 3",
   "language": "python",
   "name": "python3"
  },
  "language_info": {
   "codemirror_mode": {
    "name": "ipython",
    "version": 3
   },
   "file_extension": ".py",
   "mimetype": "text/x-python",
   "name": "python",
   "nbconvert_exporter": "python",
   "pygments_lexer": "ipython3",
   "version": "3.10.7"
  }
 },
 "nbformat": 4,
 "nbformat_minor": 2
}
